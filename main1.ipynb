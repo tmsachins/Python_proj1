{
 "cells": [
  {
   "cell_type": "code",
   "execution_count": 8,
   "id": "0b1bd214",
   "metadata": {},
   "outputs": [
    {
     "name": "stdout",
     "output_type": "stream",
     "text": [
      "25\n",
      "False\n",
      "True\n"
     ]
    }
   ],
   "source": [
    "a = 10\n",
    "b = 15\n",
    "print(a+b)\n",
    "print(a==b)\n",
    "print(a!=b)"
   ]
  },
  {
   "cell_type": "code",
   "execution_count": 4,
   "id": "1aef3884",
   "metadata": {},
   "outputs": [
    {
     "data": {
      "text/plain": [
       "4.2"
      ]
     },
     "execution_count": 4,
     "metadata": {},
     "output_type": "execute_result"
    }
   ],
   "source": [
    "21/5"
   ]
  },
  {
   "cell_type": "code",
   "execution_count": 5,
   "id": "31d15686",
   "metadata": {},
   "outputs": [
    {
     "data": {
      "text/plain": [
       "4"
      ]
     },
     "execution_count": 5,
     "metadata": {},
     "output_type": "execute_result"
    }
   ],
   "source": [
    "21//5"
   ]
  },
  {
   "cell_type": "markdown",
   "id": "6fb7c6ab",
   "metadata": {},
   "source": [
    "Comparison Operators"
   ]
  },
  {
   "cell_type": "code",
   "execution_count": 9,
   "id": "5be2b98a",
   "metadata": {},
   "outputs": [
    {
     "data": {
      "text/plain": [
       "False"
      ]
     },
     "execution_count": 9,
     "metadata": {},
     "output_type": "execute_result"
    }
   ],
   "source": [
    "44>45"
   ]
  },
  {
   "cell_type": "code",
   "execution_count": 10,
   "id": "59faf964",
   "metadata": {},
   "outputs": [
    {
     "data": {
      "text/plain": [
       "True"
      ]
     },
     "execution_count": 10,
     "metadata": {},
     "output_type": "execute_result"
    }
   ],
   "source": [
    "44!=45"
   ]
  },
  {
   "cell_type": "markdown",
   "id": "d978620b",
   "metadata": {},
   "source": [
    "# Logical Operators"
   ]
  },
  {
   "cell_type": "markdown",
   "id": "8ef3211d",
   "metadata": {},
   "source": [
    "And, Or, Not"
   ]
  },
  {
   "cell_type": "code",
   "execution_count": 11,
   "id": "868a3f7a",
   "metadata": {},
   "outputs": [
    {
     "data": {
      "text/plain": [
       "True"
      ]
     },
     "execution_count": 11,
     "metadata": {},
     "output_type": "execute_result"
    }
   ],
   "source": [
    "X = True\n",
    "Y = True\n",
    "X and Y"
   ]
  },
  {
   "cell_type": "code",
   "execution_count": 12,
   "id": "93e3f00b",
   "metadata": {},
   "outputs": [
    {
     "data": {
      "text/plain": [
       "True"
      ]
     },
     "execution_count": 12,
     "metadata": {},
     "output_type": "execute_result"
    }
   ],
   "source": [
    "X or Y"
   ]
  },
  {
   "cell_type": "code",
   "execution_count": 13,
   "id": "4c99cc32",
   "metadata": {},
   "outputs": [
    {
     "data": {
      "text/plain": [
       "False"
      ]
     },
     "execution_count": 13,
     "metadata": {},
     "output_type": "execute_result"
    }
   ],
   "source": [
    "not X"
   ]
  },
  {
   "cell_type": "markdown",
   "id": "f46624c5",
   "metadata": {},
   "source": [
    "# Conditional Statements"
   ]
  },
  {
   "cell_type": "markdown",
   "id": "c5c147cd",
   "metadata": {},
   "source": [
    "If\n",
    "else\n",
    "elif\n",
    "nested conditional"
   ]
  },
  {
   "cell_type": "code",
   "execution_count": 15,
   "id": "ea675ceb",
   "metadata": {},
   "outputs": [
    {
     "name": "stdout",
     "output_type": "stream",
     "text": [
      "You are a minor\n"
     ]
    }
   ],
   "source": [
    "age = 15\n",
    "if age >= 18:\n",
    "    print(\"You are allowed to vote\")\n",
    "else :\n",
    "    print(\"You are a minor\")"
   ]
  },
  {
   "cell_type": "code",
   "execution_count": 18,
   "id": "9f6a2311",
   "metadata": {},
   "outputs": [
    {
     "name": "stdout",
     "output_type": "stream",
     "text": [
      "You are an adult\n"
     ]
    }
   ],
   "source": [
    "age = 18\n",
    "if age <13:\n",
    "    print(\"You are a child\")\n",
    "elif age<18 :\n",
    "    print(\"You are a teenager\")\n",
    "else:\n",
    "    print(\"You are an adult\")"
   ]
  },
  {
   "cell_type": "code",
   "execution_count": 24,
   "id": "d500052b",
   "metadata": {},
   "outputs": [
    {
     "name": "stdout",
     "output_type": "stream",
     "text": [
      "The no. is positive.\n",
      "The no. is odd\n"
     ]
    }
   ],
   "source": [
    "num = int(input(\"Enter a no. :\"))\n",
    "if num>=0:\n",
    "    print(\"The no. is positive.\")\n",
    "    if num%2==0:\n",
    "        print(\"The no. is even\")\n",
    "    else:\n",
    "        print(\"The no. is odd\")\n",
    "else:\n",
    "    print(\"the no is zero or negative\")"
   ]
  },
  {
   "cell_type": "code",
   "execution_count": 28,
   "id": "d9628898",
   "metadata": {},
   "outputs": [
    {
     "name": "stdout",
     "output_type": "stream",
     "text": [
      "-11\n"
     ]
    }
   ],
   "source": [
    "num1 = int(input(\"Enter no. 1 :\"))\n",
    "num2 = int(input(\"Enter no. 2 :\"))\n",
    "operation = input(\"Enter the operation (+ - *) :\")\n",
    "if operation == \"+\":\n",
    "    print(num1+num2)\n",
    "elif operation == \"-\":\n",
    "    print(num1-num2)\n",
    "elif operation == \"*\":\n",
    "    print(num1*num2)\n",
    "else:\n",
    "    pass"
   ]
  },
  {
   "cell_type": "markdown",
   "id": "454ae906",
   "metadata": {},
   "source": [
    "# Loops"
   ]
  },
  {
   "cell_type": "code",
   "execution_count": 29,
   "id": "1808647b",
   "metadata": {},
   "outputs": [
    {
     "data": {
      "text/plain": [
       "range(0, 5)"
      ]
     },
     "execution_count": 29,
     "metadata": {},
     "output_type": "execute_result"
    }
   ],
   "source": [
    "range(5)"
   ]
  },
  {
   "cell_type": "code",
   "execution_count": 30,
   "id": "e2db5c18",
   "metadata": {},
   "outputs": [
    {
     "name": "stdout",
     "output_type": "stream",
     "text": [
      "0\n",
      "1\n",
      "2\n",
      "3\n",
      "4\n"
     ]
    }
   ],
   "source": [
    "for i in range(5):\n",
    "    print(i)"
   ]
  },
  {
   "cell_type": "code",
   "execution_count": 33,
   "id": "2787d9d9",
   "metadata": {},
   "outputs": [
    {
     "name": "stdout",
     "output_type": "stream",
     "text": [
      "2\n",
      "3\n",
      "4\n"
     ]
    }
   ],
   "source": [
    "for i in range(2,5):\n",
    "    print(i)"
   ]
  },
  {
   "cell_type": "code",
   "execution_count": 34,
   "id": "24d6e0eb",
   "metadata": {},
   "outputs": [
    {
     "name": "stdout",
     "output_type": "stream",
     "text": [
      "2\n",
      "4\n"
     ]
    }
   ],
   "source": [
    "for i in range(2,5,2):\n",
    "    print(i)"
   ]
  },
  {
   "cell_type": "code",
   "execution_count": 37,
   "id": "9b4b3e50",
   "metadata": {},
   "outputs": [
    {
     "name": "stdout",
     "output_type": "stream",
     "text": [
      "10\n",
      "9\n"
     ]
    }
   ],
   "source": [
    "for i in range(10,8,-1):\n",
    "    print(i)"
   ]
  },
  {
   "cell_type": "code",
   "execution_count": null,
   "id": "9aed5ca4",
   "metadata": {},
   "outputs": [
    {
     "name": "stdout",
     "output_type": "stream",
     "text": [
      "10\n",
      "8\n",
      "6\n"
     ]
    }
   ],
   "source": [
    "for i in range(10,4,-2):\n",
    "    print(i)"
   ]
  },
  {
   "cell_type": "code",
   "execution_count": 40,
   "id": "845f7800",
   "metadata": {},
   "outputs": [
    {
     "name": "stdout",
     "output_type": "stream",
     "text": [
      "S\n",
      "a\n",
      "c\n",
      "h\n",
      "i\n",
      "n\n"
     ]
    }
   ],
   "source": [
    "# string is a collection of characters\n",
    "\n",
    "str = \"Sachin\"\n",
    "for i in str:\n",
    "    print(i)"
   ]
  },
  {
   "cell_type": "code",
   "execution_count": 43,
   "id": "d232dd36",
   "metadata": {},
   "outputs": [
    {
     "name": "stdout",
     "output_type": "stream",
     "text": [
      "0\n",
      "1\n",
      "2\n",
      "3\n",
      "4\n"
     ]
    }
   ],
   "source": [
    "# break statement\n",
    "for i in range(10):\n",
    "    if i==5:\n",
    "        break\n",
    "    print(i)"
   ]
  },
  {
   "cell_type": "code",
   "execution_count": 44,
   "id": "02ee7459",
   "metadata": {},
   "outputs": [
    {
     "name": "stdout",
     "output_type": "stream",
     "text": [
      "1\n",
      "3\n",
      "5\n",
      "7\n",
      "9\n"
     ]
    }
   ],
   "source": [
    "# continue statement\n",
    "for i in range(10):\n",
    "    if i%2==0:\n",
    "        continue\n",
    "    print(i)"
   ]
  },
  {
   "cell_type": "code",
   "execution_count": 45,
   "id": "839729f3",
   "metadata": {},
   "outputs": [],
   "source": [
    "# pass is a null operation"
   ]
  },
  {
   "cell_type": "code",
   "execution_count": 58,
   "id": "043440b5",
   "metadata": {},
   "outputs": [
    {
     "name": "stdout",
     "output_type": "stream",
     "text": [
      "3  is a prime no.\n",
      "4  is not a prime no.\n",
      "5  is a prime no.\n",
      "6  is not a prime no.\n",
      "7  is a prime no.\n",
      "8  is not a prime no.\n",
      "9  is not a prime no.\n",
      "10  is not a prime no.\n",
      "11  is a prime no.\n",
      "12  is not a prime no.\n",
      "13  is a prime no.\n",
      "14  is not a prime no.\n",
      "15  is not a prime no.\n"
     ]
    }
   ],
   "source": [
    "# Prime nos. between 1 and 100\n",
    "\n",
    "check_no=15\n",
    "for i in range(3,check_no+1):\n",
    "    result = \" is a prime no.\"\n",
    "    for j in range(2,i):\n",
    "        if i%j == 0:\n",
    "            result = \" is not a prime no.\"\n",
    "            break\n",
    "    print(i,result)\n",
    "\n"
   ]
  },
  {
   "cell_type": "code",
   "execution_count": 66,
   "id": "44e64019",
   "metadata": {},
   "outputs": [
    {
     "name": "stdout",
     "output_type": "stream",
     "text": [
      "2\n",
      "3\n",
      "5\n",
      "7\n"
     ]
    }
   ],
   "source": [
    "# for else statement\n",
    "for num in range(1,10):\n",
    "    if num>1:\n",
    "        # print(\"num = \",num)\n",
    "        for i in range(2,num):\n",
    "            # print(\"i = \",i)\n",
    "            if num%i==0:\n",
    "                break\n",
    "        else:\n",
    "            print(num)"
   ]
  },
  {
   "cell_type": "markdown",
   "id": "6cee6364",
   "metadata": {},
   "source": [
    "# Lists\n",
    "- ordered, mutable collection of items\n",
    "- can contain items of different data types"
   ]
  },
  {
   "cell_type": "code",
   "execution_count": 68,
   "id": "3543933a",
   "metadata": {},
   "outputs": [
    {
     "data": {
      "text/plain": [
       "list"
      ]
     },
     "execution_count": 68,
     "metadata": {},
     "output_type": "execute_result"
    }
   ],
   "source": [
    "lst=[]\n",
    "type(lst)"
   ]
  },
  {
   "cell_type": "code",
   "execution_count": 72,
   "id": "58fb15eb",
   "metadata": {},
   "outputs": [
    {
     "name": "stdout",
     "output_type": "stream",
     "text": [
      "['sac', 'sumit', 'sahil', 1, 2, 3, 4]\n"
     ]
    }
   ],
   "source": [
    "names=[\"sac\", \"sumit\", \"sahil\",1,2,3,4]\n",
    "print(names)"
   ]
  },
  {
   "cell_type": "code",
   "execution_count": 73,
   "id": "1cbdc100",
   "metadata": {},
   "outputs": [
    {
     "name": "stdout",
     "output_type": "stream",
     "text": [
      "sac\n",
      "sumit\n",
      "sahil\n",
      "1\n",
      "2\n",
      "3\n",
      "4\n"
     ]
    }
   ],
   "source": [
    "for i in names:\n",
    "    print(i)"
   ]
  },
  {
   "cell_type": "code",
   "execution_count": 79,
   "id": "986d0c84",
   "metadata": {},
   "outputs": [
    {
     "data": {
      "text/plain": [
       "'sac'"
      ]
     },
     "execution_count": 79,
     "metadata": {},
     "output_type": "execute_result"
    }
   ],
   "source": [
    "names[0]"
   ]
  },
  {
   "cell_type": "code",
   "execution_count": 85,
   "id": "809efe7a",
   "metadata": {},
   "outputs": [
    {
     "data": {
      "text/plain": [
       "4"
      ]
     },
     "execution_count": 85,
     "metadata": {},
     "output_type": "execute_result"
    }
   ],
   "source": [
    "names[-1]"
   ]
  },
  {
   "cell_type": "code",
   "execution_count": 80,
   "id": "b1fc5134",
   "metadata": {},
   "outputs": [
    {
     "data": {
      "text/plain": [
       "'s'"
      ]
     },
     "execution_count": 80,
     "metadata": {},
     "output_type": "execute_result"
    }
   ],
   "source": [
    "names[0][0]"
   ]
  },
  {
   "cell_type": "code",
   "execution_count": 76,
   "id": "aa333b5c",
   "metadata": {},
   "outputs": [
    {
     "name": "stdout",
     "output_type": "stream",
     "text": [
      "s\n",
      "a\n",
      "c\n"
     ]
    }
   ],
   "source": [
    "for i in names[0]:\n",
    "    print(i)"
   ]
  },
  {
   "cell_type": "code",
   "execution_count": 84,
   "id": "f449bc60",
   "metadata": {},
   "outputs": [
    {
     "name": "stdout",
     "output_type": "stream",
     "text": [
      "['sumit', 'sahil', 1, 2, 3, 4]\n",
      "['sumit']\n"
     ]
    }
   ],
   "source": [
    "print(names[1:])\n",
    "print(names[1:2])\n"
   ]
  },
  {
   "cell_type": "code",
   "execution_count": 86,
   "id": "2655571c",
   "metadata": {},
   "outputs": [
    {
     "data": {
      "text/plain": [
       "'sumit'"
      ]
     },
     "execution_count": 86,
     "metadata": {},
     "output_type": "execute_result"
    }
   ],
   "source": [
    "names[1]"
   ]
  },
  {
   "cell_type": "code",
   "execution_count": 87,
   "id": "3dfed270",
   "metadata": {},
   "outputs": [],
   "source": [
    "names[1]=\"Ashish\""
   ]
  },
  {
   "cell_type": "code",
   "execution_count": 88,
   "id": "eb5a870d",
   "metadata": {},
   "outputs": [
    {
     "data": {
      "text/plain": [
       "'Ashish'"
      ]
     },
     "execution_count": 88,
     "metadata": {},
     "output_type": "execute_result"
    }
   ],
   "source": [
    "names[1]"
   ]
  },
  {
   "cell_type": "code",
   "execution_count": 90,
   "id": "082af11a",
   "metadata": {},
   "outputs": [],
   "source": [
    "# List methods\n",
    "names.append(\"orange\")"
   ]
  },
  {
   "cell_type": "code",
   "execution_count": 91,
   "id": "8a180cc7",
   "metadata": {},
   "outputs": [
    {
     "data": {
      "text/plain": [
       "['sac', 'Ashish', 'sahil', 1, 2, 3, 4, 'orange']"
      ]
     },
     "execution_count": 91,
     "metadata": {},
     "output_type": "execute_result"
    }
   ],
   "source": [
    "names"
   ]
  },
  {
   "cell_type": "code",
   "execution_count": 92,
   "id": "82f4c855",
   "metadata": {},
   "outputs": [],
   "source": [
    "names.insert(1,\"banana\")"
   ]
  },
  {
   "cell_type": "code",
   "execution_count": 93,
   "id": "407caf7f",
   "metadata": {},
   "outputs": [
    {
     "data": {
      "text/plain": [
       "['sac', 'banana', 'Ashish', 'sahil', 1, 2, 3, 4, 'orange']"
      ]
     },
     "execution_count": 93,
     "metadata": {},
     "output_type": "execute_result"
    }
   ],
   "source": [
    "names"
   ]
  },
  {
   "cell_type": "code",
   "execution_count": 94,
   "id": "2d3cc62f",
   "metadata": {},
   "outputs": [],
   "source": [
    "names.remove(\"banana\")"
   ]
  },
  {
   "cell_type": "code",
   "execution_count": 95,
   "id": "62cd0129",
   "metadata": {},
   "outputs": [
    {
     "data": {
      "text/plain": [
       "['sac', 'Ashish', 'sahil', 1, 2, 3, 4, 'orange']"
      ]
     },
     "execution_count": 95,
     "metadata": {},
     "output_type": "execute_result"
    }
   ],
   "source": [
    "names"
   ]
  },
  {
   "cell_type": "code",
   "execution_count": 96,
   "id": "67f5c4ac",
   "metadata": {},
   "outputs": [
    {
     "data": {
      "text/plain": [
       "'orange'"
      ]
     },
     "execution_count": 96,
     "metadata": {},
     "output_type": "execute_result"
    }
   ],
   "source": [
    "names.pop()"
   ]
  },
  {
   "cell_type": "code",
   "execution_count": 97,
   "id": "3e8eeba2",
   "metadata": {},
   "outputs": [
    {
     "data": {
      "text/plain": [
       "['sac', 'Ashish', 'sahil', 1, 2, 3, 4]"
      ]
     },
     "execution_count": 97,
     "metadata": {},
     "output_type": "execute_result"
    }
   ],
   "source": [
    "names"
   ]
  },
  {
   "cell_type": "code",
   "execution_count": 98,
   "id": "e9261e81",
   "metadata": {},
   "outputs": [
    {
     "name": "stdout",
     "output_type": "stream",
     "text": [
      "2\n"
     ]
    }
   ],
   "source": [
    "print(names.index(\"sahil\"))"
   ]
  },
  {
   "cell_type": "code",
   "execution_count": 99,
   "id": "d9c7a304",
   "metadata": {},
   "outputs": [],
   "source": [
    "names.insert(1,\"banana\")"
   ]
  },
  {
   "cell_type": "code",
   "execution_count": 100,
   "id": "c3774836",
   "metadata": {},
   "outputs": [
    {
     "data": {
      "text/plain": [
       "['sac', 'banana', 'Ashish', 'sahil', 1, 2, 3, 4]"
      ]
     },
     "execution_count": 100,
     "metadata": {},
     "output_type": "execute_result"
    }
   ],
   "source": [
    "names"
   ]
  },
  {
   "cell_type": "code",
   "execution_count": 101,
   "id": "2a8a43ca",
   "metadata": {},
   "outputs": [],
   "source": [
    "names.insert(5,\"banana\")"
   ]
  },
  {
   "cell_type": "code",
   "execution_count": 102,
   "id": "210d34bc",
   "metadata": {},
   "outputs": [
    {
     "data": {
      "text/plain": [
       "['sac', 'banana', 'Ashish', 'sahil', 1, 'banana', 2, 3, 4]"
      ]
     },
     "execution_count": 102,
     "metadata": {},
     "output_type": "execute_result"
    }
   ],
   "source": [
    "names"
   ]
  },
  {
   "cell_type": "code",
   "execution_count": 103,
   "id": "f5fb7b00",
   "metadata": {},
   "outputs": [
    {
     "data": {
      "text/plain": [
       "2"
      ]
     },
     "execution_count": 103,
     "metadata": {},
     "output_type": "execute_result"
    }
   ],
   "source": [
    "names.count(\"banana\")"
   ]
  },
  {
   "cell_type": "code",
   "execution_count": 111,
   "id": "5151abc4",
   "metadata": {},
   "outputs": [
    {
     "ename": "TypeError",
     "evalue": "'<' not supported between instances of 'int' and 'str'",
     "output_type": "error",
     "traceback": [
      "\u001b[1;31m---------------------------------------------------------------------------\u001b[0m",
      "\u001b[1;31mTypeError\u001b[0m                                 Traceback (most recent call last)",
      "Cell \u001b[1;32mIn[111], line 1\u001b[0m\n\u001b[1;32m----> 1\u001b[0m \u001b[43mnames\u001b[49m\u001b[38;5;241;43m.\u001b[39;49m\u001b[43msort\u001b[49m\u001b[43m(\u001b[49m\u001b[43m)\u001b[49m\n",
      "\u001b[1;31mTypeError\u001b[0m: '<' not supported between instances of 'int' and 'str'"
     ]
    }
   ],
   "source": [
    "names.sort()"
   ]
  },
  {
   "cell_type": "code",
   "execution_count": 106,
   "id": "a9c9e312",
   "metadata": {},
   "outputs": [],
   "source": [
    "fruits = [\"banana\",\"apple\",\"cherry\",\"guava\",\"watermelon\"]"
   ]
  },
  {
   "cell_type": "code",
   "execution_count": 109,
   "id": "bb797494",
   "metadata": {},
   "outputs": [],
   "source": [
    "fruits.sort()"
   ]
  },
  {
   "cell_type": "code",
   "execution_count": 110,
   "id": "9a25aac2",
   "metadata": {},
   "outputs": [
    {
     "data": {
      "text/plain": [
       "['apple', 'banana', 'cherry', 'guava', 'watermelon']"
      ]
     },
     "execution_count": 110,
     "metadata": {},
     "output_type": "execute_result"
    }
   ],
   "source": [
    "fruits"
   ]
  },
  {
   "cell_type": "code",
   "execution_count": 112,
   "id": "b8b5666b",
   "metadata": {},
   "outputs": [],
   "source": [
    "fruits.reverse()"
   ]
  },
  {
   "cell_type": "code",
   "execution_count": 113,
   "id": "56c55636",
   "metadata": {},
   "outputs": [
    {
     "data": {
      "text/plain": [
       "['watermelon', 'guava', 'cherry', 'banana', 'apple']"
      ]
     },
     "execution_count": 113,
     "metadata": {},
     "output_type": "execute_result"
    }
   ],
   "source": [
    "fruits"
   ]
  },
  {
   "cell_type": "code",
   "execution_count": 115,
   "id": "e0a61c97",
   "metadata": {},
   "outputs": [],
   "source": [
    "fruits.clear()"
   ]
  },
  {
   "cell_type": "code",
   "execution_count": 116,
   "id": "7c3ea6c3",
   "metadata": {},
   "outputs": [
    {
     "data": {
      "text/plain": [
       "[]"
      ]
     },
     "execution_count": 116,
     "metadata": {},
     "output_type": "execute_result"
    }
   ],
   "source": [
    "fruits"
   ]
  },
  {
   "cell_type": "code",
   "execution_count": 120,
   "id": "b589d74d",
   "metadata": {},
   "outputs": [
    {
     "name": "stdout",
     "output_type": "stream",
     "text": [
      "[3, 4, 5]\n",
      "[1, 2, 3, 4, 5]\n",
      "[6, 7, 8, 9, 10]\n",
      "[1, 3, 5, 7, 9]\n",
      "[10, 9, 8, 7, 6, 5, 4, 3, 2, 1]\n"
     ]
    }
   ],
   "source": [
    "numbers=[1,2,3,4,5,6,7,8,9,10]\n",
    "print(numbers[2:5])\n",
    "print(numbers[:5])\n",
    "print(numbers[5:])\n",
    "print(numbers[::2])\n",
    "print(numbers[::-1])"
   ]
  },
  {
   "cell_type": "code",
   "execution_count": 121,
   "id": "4fe408b0",
   "metadata": {},
   "outputs": [
    {
     "name": "stdout",
     "output_type": "stream",
     "text": [
      "0 1\n",
      "1 2\n",
      "2 3\n",
      "3 4\n",
      "4 5\n",
      "5 6\n",
      "6 7\n",
      "7 8\n",
      "8 9\n",
      "9 10\n"
     ]
    }
   ],
   "source": [
    "for index,number in enumerate(numbers):\n",
    "    print(index, number)"
   ]
  },
  {
   "cell_type": "code",
   "execution_count": 123,
   "id": "324942ea",
   "metadata": {},
   "outputs": [
    {
     "name": "stdout",
     "output_type": "stream",
     "text": [
      "[0, 1, 4, 9, 16, 25, 36, 49, 64, 81]\n"
     ]
    }
   ],
   "source": [
    "# list comprehension\n",
    "lst=[]\n",
    "for x in range(10):\n",
    "    lst.append(x**2)\n",
    "print(lst)"
   ]
  },
  {
   "cell_type": "markdown",
   "id": "586ff4e2",
   "metadata": {},
   "source": [
    "list comprehension\n",
    "- Basic syntax - [expression for item in iterable]\n",
    "- with conditional logic [expression for item in iterable if condition]"
   ]
  },
  {
   "cell_type": "code",
   "execution_count": 126,
   "id": "cf4fc1f3",
   "metadata": {},
   "outputs": [
    {
     "name": "stdout",
     "output_type": "stream",
     "text": [
      "[0, 1, 4, 9, 16, 25, 36, 49, 64, 81]\n"
     ]
    }
   ],
   "source": [
    "# list comprehension\n",
    "# [expression for item in iterable]\n",
    "square = [x**2 for x in range(10)]\n",
    "print(square)"
   ]
  },
  {
   "cell_type": "code",
   "execution_count": 132,
   "id": "190e3976",
   "metadata": {},
   "outputs": [
    {
     "data": {
      "text/plain": [
       "[0, 4, 16, 36, 64]"
      ]
     },
     "execution_count": 132,
     "metadata": {},
     "output_type": "execute_result"
    }
   ],
   "source": [
    "[num**2 for num in range(10) if num%2==0]"
   ]
  },
  {
   "cell_type": "code",
   "execution_count": 137,
   "id": "3dc1aa4a",
   "metadata": {},
   "outputs": [
    {
     "name": "stdout",
     "output_type": "stream",
     "text": [
      "[[1, 'a'], [1, 'b'], [1, 'c'], [1, 'd'], [2, 'a'], [2, 'b'], [2, 'c'], [2, 'd'], [3, 'a'], [3, 'b'], [3, 'c'], [3, 'd'], [4, 'a'], [4, 'b'], [4, 'c'], [4, 'd']]\n"
     ]
    }
   ],
   "source": [
    "# nested list comprehension\n",
    "lst1=[1,2,3,4]\n",
    "lst2=['a','b','c','d']\n",
    "print([[i,j] for i in lst1 for j in lst2])"
   ]
  },
  {
   "cell_type": "code",
   "execution_count": 139,
   "id": "f8406f68",
   "metadata": {},
   "outputs": [
    {
     "name": "stdout",
     "output_type": "stream",
     "text": [
      "[5, 5, 6, 4, 13]\n"
     ]
    }
   ],
   "source": [
    "# List comprehension with function calls\n",
    "words = [\"hello\", \"world\", \"python\",\"list\",\"comprehension\"]\n",
    "print([len(word) for word in words])"
   ]
  },
  {
   "cell_type": "markdown",
   "id": "759c9940",
   "metadata": {},
   "source": [
    "# Tuples\n",
    "tuples are immmuntable"
   ]
  },
  {
   "cell_type": "code",
   "execution_count": 141,
   "id": "1aa5685c",
   "metadata": {},
   "outputs": [
    {
     "name": "stdout",
     "output_type": "stream",
     "text": [
      "()\n"
     ]
    }
   ],
   "source": [
    "empty_tuple=()\n",
    "print(empty_tuple)"
   ]
  },
  {
   "cell_type": "code",
   "execution_count": 143,
   "id": "0b41a097",
   "metadata": {},
   "outputs": [
    {
     "data": {
      "text/plain": [
       "(1, 2, 3, 4, 5)"
      ]
     },
     "execution_count": 143,
     "metadata": {},
     "output_type": "execute_result"
    }
   ],
   "source": [
    "tuple([1,2,3,4,5])"
   ]
  },
  {
   "cell_type": "code",
   "execution_count": 144,
   "id": "440dd71b",
   "metadata": {},
   "outputs": [
    {
     "data": {
      "text/plain": [
       "list[1, 2, 3, 4, 5]"
      ]
     },
     "execution_count": 144,
     "metadata": {},
     "output_type": "execute_result"
    }
   ],
   "source": [
    "list[(1,2,3,4,5)]"
   ]
  },
  {
   "cell_type": "code",
   "execution_count": 145,
   "id": "634a6cf5",
   "metadata": {},
   "outputs": [],
   "source": [
    "mixed_tuple=(1,'Hello world',3.14,True)"
   ]
  },
  {
   "cell_type": "code",
   "execution_count": 147,
   "id": "d200e9f2",
   "metadata": {},
   "outputs": [
    {
     "name": "stdout",
     "output_type": "stream",
     "text": [
      "(1, 'Hello world', 3.14, True, 1, 'Hello world', 3.14, True, 1, 'Hello world', 3.14, True)\n"
     ]
    }
   ],
   "source": [
    "print(mixed_tuple*3)"
   ]
  },
  {
   "cell_type": "code",
   "execution_count": 149,
   "id": "cea6192d",
   "metadata": {},
   "outputs": [
    {
     "name": "stdout",
     "output_type": "stream",
     "text": [
      "1\n",
      "2\n"
     ]
    }
   ],
   "source": [
    "print(numbers.count(1))\n",
    "print(numbers.index(3))"
   ]
  },
  {
   "cell_type": "code",
   "execution_count": 150,
   "id": "02a614da",
   "metadata": {},
   "outputs": [
    {
     "name": "stdout",
     "output_type": "stream",
     "text": [
      "(1, 'Hello world', 3.14)\n"
     ]
    }
   ],
   "source": [
    "packed_tuple = 1,'Hello world',3.14\n",
    "print(packed_tuple)"
   ]
  },
  {
   "cell_type": "code",
   "execution_count": 152,
   "id": "b44b19ee",
   "metadata": {},
   "outputs": [
    {
     "name": "stdout",
     "output_type": "stream",
     "text": [
      "1\n",
      "Hello world\n",
      "3.14\n"
     ]
    }
   ],
   "source": [
    "a,b,c = packed_tuple\n",
    "print(a)\n",
    "print(b)\n",
    "print(c)"
   ]
  },
  {
   "cell_type": "markdown",
   "id": "44dfcb93",
   "metadata": {},
   "source": [
    "# Sets"
   ]
  },
  {
   "cell_type": "code",
   "execution_count": 153,
   "id": "f6cf858b",
   "metadata": {},
   "outputs": [
    {
     "data": {
      "text/plain": [
       "{1, 2, 3, 4, 5}"
      ]
     },
     "execution_count": 153,
     "metadata": {},
     "output_type": "execute_result"
    }
   ],
   "source": [
    "my_set = {1,2,3,4,5,1,2,3}\n",
    "my_set"
   ]
  },
  {
   "cell_type": "code",
   "execution_count": 154,
   "id": "48a3c6fb",
   "metadata": {},
   "outputs": [],
   "source": [
    "my_set.add(23)"
   ]
  },
  {
   "cell_type": "code",
   "execution_count": 155,
   "id": "e8aeff3a",
   "metadata": {},
   "outputs": [
    {
     "data": {
      "text/plain": [
       "{1, 2, 3, 4, 5, 23}"
      ]
     },
     "execution_count": 155,
     "metadata": {},
     "output_type": "execute_result"
    }
   ],
   "source": [
    "my_set"
   ]
  },
  {
   "cell_type": "code",
   "execution_count": 156,
   "id": "3aa4ff03",
   "metadata": {},
   "outputs": [],
   "source": [
    "my_set.remove(5)"
   ]
  },
  {
   "cell_type": "code",
   "execution_count": 157,
   "id": "3c32e487",
   "metadata": {},
   "outputs": [
    {
     "data": {
      "text/plain": [
       "{1, 2, 3, 4, 23}"
      ]
     },
     "execution_count": 157,
     "metadata": {},
     "output_type": "execute_result"
    }
   ],
   "source": [
    "my_set"
   ]
  },
  {
   "cell_type": "code",
   "execution_count": 158,
   "id": "4d10637a",
   "metadata": {},
   "outputs": [
    {
     "ename": "KeyError",
     "evalue": "7",
     "output_type": "error",
     "traceback": [
      "\u001b[1;31m---------------------------------------------------------------------------\u001b[0m",
      "\u001b[1;31mKeyError\u001b[0m                                  Traceback (most recent call last)",
      "Cell \u001b[1;32mIn[158], line 1\u001b[0m\n\u001b[1;32m----> 1\u001b[0m \u001b[43mmy_set\u001b[49m\u001b[38;5;241;43m.\u001b[39;49m\u001b[43mremove\u001b[49m\u001b[43m(\u001b[49m\u001b[38;5;241;43m7\u001b[39;49m\u001b[43m)\u001b[49m\n",
      "\u001b[1;31mKeyError\u001b[0m: 7"
     ]
    }
   ],
   "source": [
    "my_set.remove(7)"
   ]
  },
  {
   "cell_type": "code",
   "execution_count": 159,
   "id": "b00b843b",
   "metadata": {},
   "outputs": [],
   "source": [
    "my_set.discard(7)"
   ]
  },
  {
   "cell_type": "code",
   "execution_count": 160,
   "id": "9e011eca",
   "metadata": {},
   "outputs": [
    {
     "data": {
      "text/plain": [
       "{1, 2, 3, 4, 23}"
      ]
     },
     "execution_count": 160,
     "metadata": {},
     "output_type": "execute_result"
    }
   ],
   "source": [
    "my_set"
   ]
  },
  {
   "cell_type": "code",
   "execution_count": 161,
   "id": "64464ddf",
   "metadata": {},
   "outputs": [
    {
     "data": {
      "text/plain": [
       "1"
      ]
     },
     "execution_count": 161,
     "metadata": {},
     "output_type": "execute_result"
    }
   ],
   "source": [
    "my_set.pop()"
   ]
  },
  {
   "cell_type": "code",
   "execution_count": 162,
   "id": "bb3ba851",
   "metadata": {},
   "outputs": [
    {
     "data": {
      "text/plain": [
       "{2, 3, 4, 23}"
      ]
     },
     "execution_count": 162,
     "metadata": {},
     "output_type": "execute_result"
    }
   ],
   "source": [
    "my_set"
   ]
  },
  {
   "cell_type": "code",
   "execution_count": 165,
   "id": "9582c10f",
   "metadata": {},
   "outputs": [
    {
     "name": "stdout",
     "output_type": "stream",
     "text": [
      "True\n",
      "False\n"
     ]
    }
   ],
   "source": [
    "# membership test\n",
    "my_set = {1,2,3,4,5}\n",
    "print(3 in my_set)\n",
    "print(8 in my_set)"
   ]
  },
  {
   "cell_type": "code",
   "execution_count": 168,
   "id": "5c7e3032",
   "metadata": {},
   "outputs": [
    {
     "name": "stdout",
     "output_type": "stream",
     "text": [
      "{1, 2, 3, 4, 5, 6, 7, 8, 9}\n",
      "{4, 5}\n"
     ]
    }
   ],
   "source": [
    "set1 = {1,2,3,4,5}\n",
    "set2 = {4,5,6,7,8,9}\n",
    "print(set1.union(set2))\n",
    "print(set1.intersection(set2))"
   ]
  },
  {
   "cell_type": "code",
   "execution_count": 169,
   "id": "da9742dc",
   "metadata": {},
   "outputs": [
    {
     "name": "stdout",
     "output_type": "stream",
     "text": [
      "{4, 5}\n"
     ]
    }
   ],
   "source": [
    "set1.intersection_update(set2)\n",
    "print(set1)"
   ]
  },
  {
   "cell_type": "code",
   "execution_count": 170,
   "id": "691a656f",
   "metadata": {},
   "outputs": [
    {
     "data": {
      "text/plain": [
       "{1, 2, 3}"
      ]
     },
     "execution_count": 170,
     "metadata": {},
     "output_type": "execute_result"
    }
   ],
   "source": [
    "set1 = {1,2,3,4,5}\n",
    "set2 = {4,5,6,7,8,9}\n",
    "set1.difference(set2)"
   ]
  },
  {
   "cell_type": "code",
   "execution_count": 171,
   "id": "0f045e02",
   "metadata": {},
   "outputs": [
    {
     "data": {
      "text/plain": [
       "{1, 2, 3, 6, 7, 8, 9}"
      ]
     },
     "execution_count": 171,
     "metadata": {},
     "output_type": "execute_result"
    }
   ],
   "source": [
    "set1.symmetric_difference(set2)"
   ]
  },
  {
   "cell_type": "code",
   "execution_count": 173,
   "id": "6e589717",
   "metadata": {},
   "outputs": [
    {
     "name": "stdout",
     "output_type": "stream",
     "text": [
      "False\n",
      "False\n"
     ]
    }
   ],
   "source": [
    "set1 = {1,2,3}\n",
    "set2 = {4,5,6}\n",
    "print(set1.issubset(set2))\n",
    "print(set1.issuperset(set2))"
   ]
  },
  {
   "cell_type": "code",
   "execution_count": 174,
   "id": "eba986d9",
   "metadata": {},
   "outputs": [
    {
     "name": "stdout",
     "output_type": "stream",
     "text": [
      "False\n",
      "True\n"
     ]
    }
   ],
   "source": [
    "set1 = {1,2,3,4,5,6}\n",
    "set2 = {4,5,6}\n",
    "print(set1.issubset(set2))\n",
    "print(set1.issuperset(set2))"
   ]
  },
  {
   "cell_type": "code",
   "execution_count": 177,
   "id": "70244773",
   "metadata": {},
   "outputs": [
    {
     "name": "stdout",
     "output_type": "stream",
     "text": [
      "<class 'list'>\n",
      "{'In', 'we', 'sets', 'this', 'are', 'about', 'discussing', 'tutorial'}\n",
      "8\n"
     ]
    }
   ],
   "source": [
    "## Counting Unique words in text\n",
    "\n",
    "text=\"In this tutorial we are discussing about sets\"\n",
    "words=text.split()\n",
    "print(type(words))\n",
    "\n",
    "unique_words=set(words)\n",
    "print(unique_words)\n",
    "print(len(unique_words))"
   ]
  },
  {
   "cell_type": "markdown",
   "id": "c59b2e66",
   "metadata": {},
   "source": [
    "# Dictionaries"
   ]
  },
  {
   "cell_type": "code",
   "execution_count": 180,
   "id": "f6b3d79a",
   "metadata": {},
   "outputs": [
    {
     "name": "stdout",
     "output_type": "stream",
     "text": [
      "{'name': 'Sachin', 'age': 35, 'grade': 24}\n"
     ]
    }
   ],
   "source": [
    "student={\"name\":\"Sachin\", \"age\":35, \"grade\":24}\n",
    "print(student)"
   ]
  },
  {
   "cell_type": "code",
   "execution_count": 186,
   "id": "f3b19810",
   "metadata": {},
   "outputs": [
    {
     "name": "stdout",
     "output_type": "stream",
     "text": [
      "35\n",
      "35\n",
      "None\n",
      "Not available\n"
     ]
    }
   ],
   "source": [
    "print(student[\"age\"])\n",
    "print(student.get(\"age\"))\n",
    "print(student.get(\"last_name\"))\n",
    "print(student.get(\"last_name\",\"Not available\"))"
   ]
  },
  {
   "cell_type": "code",
   "execution_count": 190,
   "id": "cfcde12c",
   "metadata": {},
   "outputs": [
    {
     "data": {
      "text/plain": [
       "{'name': 'Sachin', 'age': 33, 'grade': 24, 'address': 'World'}"
      ]
     },
     "execution_count": 190,
     "metadata": {},
     "output_type": "execute_result"
    }
   ],
   "source": [
    "student[\"age\"]=33\n",
    "student[\"address\"]=\"World\"\n",
    "student"
   ]
  },
  {
   "cell_type": "code",
   "execution_count": 191,
   "id": "91f05c56",
   "metadata": {},
   "outputs": [
    {
     "data": {
      "text/plain": [
       "{'name': 'Sachin', 'age': 33, 'address': 'World'}"
      ]
     },
     "execution_count": 191,
     "metadata": {},
     "output_type": "execute_result"
    }
   ],
   "source": [
    "del(student[\"grade\"])\n",
    "student"
   ]
  },
  {
   "cell_type": "code",
   "execution_count": 197,
   "id": "86fa9da5",
   "metadata": {},
   "outputs": [
    {
     "name": "stdout",
     "output_type": "stream",
     "text": [
      "dict_keys(['name', 'age', 'address'])\n",
      "dict_values(['Sachin', 33, 'World'])\n",
      "<class 'dict_keys'>\n"
     ]
    }
   ],
   "source": [
    "keys=student.keys()\n",
    "values=student.values()\n",
    "print(keys)\n",
    "print(values)\n",
    "print(type(keys))\n"
   ]
  },
  {
   "cell_type": "code",
   "execution_count": 196,
   "id": "49f634a5",
   "metadata": {},
   "outputs": [
    {
     "name": "stdout",
     "output_type": "stream",
     "text": [
      "['name', 'age', 'address']\n",
      "<class 'list'>\n"
     ]
    }
   ],
   "source": [
    "keys=list(student.keys())\n",
    "print(keys)\n",
    "print(type(keys))"
   ]
  },
  {
   "cell_type": "code",
   "execution_count": 200,
   "id": "e549c6e8",
   "metadata": {},
   "outputs": [
    {
     "name": "stdout",
     "output_type": "stream",
     "text": [
      "dict_items([('name', 'Sachin'), ('age', 33), ('address', 'World')])\n",
      "<class 'dict_items'>\n",
      "<class 'dict'>\n"
     ]
    }
   ],
   "source": [
    "items=student.items()\n",
    "print(items)\n",
    "print(type(items))\n",
    "print(type(student))"
   ]
  },
  {
   "cell_type": "code",
   "execution_count": null,
   "id": "9303b6ab",
   "metadata": {},
   "outputs": [],
   "source": []
  }
 ],
 "metadata": {
  "kernelspec": {
   "display_name": "Python 3",
   "language": "python",
   "name": "python3"
  },
  "language_info": {
   "codemirror_mode": {
    "name": "ipython",
    "version": 3
   },
   "file_extension": ".py",
   "mimetype": "text/x-python",
   "name": "python",
   "nbconvert_exporter": "python",
   "pygments_lexer": "ipython3",
   "version": "3.9.21"
  }
 },
 "nbformat": 4,
 "nbformat_minor": 5
}
